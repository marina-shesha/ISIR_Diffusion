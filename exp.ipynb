{
  "nbformat": 4,
  "nbformat_minor": 0,
  "metadata": {
    "colab": {
      "provenance": [],
      "gpuType": "A100"
    },
    "kernelspec": {
      "name": "python3",
      "display_name": "Python 3"
    },
    "language_info": {
      "name": "python"
    },
    "accelerator": "GPU"
  },
  "cells": [
    {
      "cell_type": "code",
      "source": [
        "%load_ext autoreload\n",
        "\n",
        "%autoreload 2"
      ],
      "metadata": {
        "id": "FCSPY_tn36JM"
      },
      "execution_count": null,
      "outputs": []
    },
    {
      "cell_type": "code",
      "execution_count": null,
      "metadata": {
        "id": "O0NEdYW0w2vn"
      },
      "outputs": [],
      "source": [
        "!git clone https://github.com/marina-shesha/ISIR_Diffusion.git"
      ]
    },
    {
      "cell_type": "code",
      "source": [
        "from google.colab import drive\n",
        "drive.mount('/content/drive')"
      ],
      "metadata": {
        "id": "gGEZElnPx6r-"
      },
      "execution_count": null,
      "outputs": []
    },
    {
      "cell_type": "code",
      "source": [
        "path_to_checkpoints = \"/content/drive/MyDrive/MCMC_2024\" #this is path to edm-cifar10-32x32-uncond-vp.pkl e. t. c."
      ],
      "metadata": {
        "id": "bE5Z1pQhy1HQ"
      },
      "execution_count": null,
      "outputs": []
    },
    {
      "cell_type": "code",
      "source": [
        "!rm -r /content/diffrs"
      ],
      "metadata": {
        "id": "WQceXbZ1Ltht"
      },
      "execution_count": null,
      "outputs": []
    },
    {
      "cell_type": "code",
      "source": [
        "!mkdir diffrs"
      ],
      "metadata": {
        "id": "vVogst1D0m4d"
      },
      "execution_count": null,
      "outputs": []
    },
    {
      "cell_type": "code",
      "source": [
        "!python3 ISIR_Diffusion/generate_diffrs.py \\\n",
        "    --network /../content/drive/MyDrive/MCMC_2024/edm-cifar10-32x32-uncond-vp.pkl \\\n",
        "    --pretrained_classifier_ckpt /../content/drive/MyDrive/MCMC_2024/32x32_classifier.pt \\\n",
        "    --discriminator_ckpt /../content/drive/MyDrive/MCMC_2024/discriminator_60.pt \\\n",
        "    --outdir=/content/diffrs --rej_percentile=0.75 --max_iter=105\\\n",
        "    --device='cuda:0' --save_type='png' --num_samples=5000"
      ],
      "metadata": {
        "id": "CG8t18ptzXCx"
      },
      "execution_count": null,
      "outputs": []
    },
    {
      "cell_type": "code",
      "source": [
        "!python3 ISIR_Diffusion/fid_npzs.py \\\n",
        "--images=/../content/diffrs --ref=/../content/drive/MyDrive/MCMC_2024/cifar10-32x32.npz \\\n",
        "--num_samples=5000 --device='cuda:0'"
      ],
      "metadata": {
        "id": "WUTC5ktvF3VI"
      },
      "execution_count": null,
      "outputs": []
    },
    {
      "cell_type": "code",
      "source": [
        "!rm -r /content/isir"
      ],
      "metadata": {
        "id": "dR-ds-YNGsEy"
      },
      "execution_count": null,
      "outputs": []
    },
    {
      "cell_type": "code",
      "source": [
        "!mkdir isir"
      ],
      "metadata": {
        "id": "QIH5RxU9Cr6z"
      },
      "execution_count": null,
      "outputs": []
    },
    {
      "cell_type": "code",
      "source": [
        "!python3 ISIR_Diffusion/isir_code.py \\\n",
        "    --network /../content/drive/MyDrive/MCMC_2024/edm-cifar10-32x32-uncond-vp.pkl \\\n",
        "    --pretrained_classifier_ckpt /../content/drive/MyDrive/MCMC_2024/32x32_classifier.pt \\\n",
        "    --discriminator_ckpt /../content/drive/MyDrive/MCMC_2024/discriminator_60.pt \\\n",
        "    --outdir=/content/isir --device='cuda:0' --save_type='npz' --num_samples=5000 \\\n",
        "    --cnt_inner_steps=5 --isir_batch=5 --batch=1000 --img_batch=100"
      ],
      "metadata": {
        "id": "pSu3J-q19C5y"
      },
      "execution_count": null,
      "outputs": []
    },
    {
      "cell_type": "code",
      "source": [
        "!python3 ISIR_Diffusion/fid_npzs.py \\\n",
        "--images=/../content/isir --ref=/../content/drive/MyDrive/MCMC_2024/cifar10-32x32.npz \\\n",
        "--num_samples=5000 --device='cuda:0'"
      ],
      "metadata": {
        "id": "-jbczRXTvud5"
      },
      "execution_count": null,
      "outputs": []
    },
    {
      "cell_type": "code",
      "source": [
        "!rm -r /content/edm"
      ],
      "metadata": {
        "id": "kmH4lWlk03qf"
      },
      "execution_count": null,
      "outputs": []
    },
    {
      "cell_type": "code",
      "source": [
        "!mkdir edm"
      ],
      "metadata": {
        "id": "zX7FkDRq_GkQ"
      },
      "execution_count": null,
      "outputs": []
    },
    {
      "cell_type": "code",
      "source": [
        "!python3 ISIR_Diffusion/generate.py \\\n",
        "--network=/../content/drive/MyDrive/MCMC_2024/edm-cifar10-32x32-uncond-vp.pkl \\\n",
        "--batch=100 --outdir=/content/edm --num_samples=4900 --save_type='npz' \\\n",
        "--device='cuda:0' \\\n",
        "--pretrained_classifier_ckpt=/../content/drive/MyDrive/MCMC_2024/32x32_classifier.pt \\\n",
        "--discriminator_ckpt=/../content/drive/MyDrive/MCMC_2024/discriminator_60.pt \\\n",
        "--dg_weight_1st_order=0"
      ],
      "metadata": {
        "id": "doaMuJZo_ZVN"
      },
      "execution_count": null,
      "outputs": []
    },
    {
      "cell_type": "code",
      "source": [
        "!python3 ISIR_Diffusion/fid_npzs.py \\\n",
        "--images=/../content/edm --ref=/../content/drive/MyDrive/MCMC_2024/cifar10-32x32.npz \\\n",
        "--num_samples=5000 --device='cuda:0'"
      ],
      "metadata": {
        "id": "nBnYzdLgBsAS"
      },
      "execution_count": null,
      "outputs": []
    },
    {
      "cell_type": "code",
      "source": [
        "!rm -r /content/dg_edm"
      ],
      "metadata": {
        "id": "2PptFFRfrvRb"
      },
      "execution_count": null,
      "outputs": []
    },
    {
      "cell_type": "code",
      "source": [
        "!mkdir dg_edm"
      ],
      "metadata": {
        "id": "BXEfOvvrLgjx"
      },
      "execution_count": null,
      "outputs": []
    },
    {
      "cell_type": "code",
      "source": [
        "!python3 ISIR_Diffusion/generate.py \\\n",
        "--network=/../content/drive/MyDrive/MCMC_2024/edm-cifar10-32x32-uncond-vp.pkl \\\n",
        "--batch=100 --outdir=/content/dg_edm --num_samples=4900 --save_type='npz' \\\n",
        "--device='cuda:0' \\\n",
        "--pretrained_classifier_ckpt=/../content/drive/MyDrive/MCMC_2024/32x32_classifier.pt \\\n",
        "--discriminator_ckpt=/../content/drive/MyDrive/MCMC_2024/discriminator_60.pt"
      ],
      "metadata": {
        "id": "JmTvBxvnLliv"
      },
      "execution_count": null,
      "outputs": []
    },
    {
      "cell_type": "code",
      "source": [
        "!python3 ISIR_Diffusion/fid_npzs.py \\\n",
        "--images=/../content/dg_edm --ref=/../content/drive/MyDrive/MCMC_2024/cifar10-32x32.npz \\\n",
        "--num_samples=5000 --device='cuda:0'"
      ],
      "metadata": {
        "id": "SJPUfS8GLlme"
      },
      "execution_count": null,
      "outputs": []
    }
  ]
}